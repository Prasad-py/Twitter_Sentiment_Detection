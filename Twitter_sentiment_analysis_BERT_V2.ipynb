{
  "nbformat": 4,
  "nbformat_minor": 0,
  "metadata": {
    "colab": {
      "name": "Twitter_sentiment_analysis_BERT.ipynb",
      "provenance": [],
      "collapsed_sections": [],
      "include_colab_link": true
    },
    "kernelspec": {
      "name": "python3",
      "display_name": "Python 3"
    },
    "language_info": {
      "name": "python"
    },
    "accelerator": "GPU"
  },
  "cells": [
    {
      "cell_type": "markdown",
      "metadata": {
        "id": "view-in-github",
        "colab_type": "text"
      },
      "source": [
        "<a href=\"https://colab.research.google.com/github/Prasad-py/Twitter_Sentiment_Detection/blob/main/Twitter_sentiment_analysis_BERT_V2.ipynb\" target=\"_parent\"><img src=\"https://colab.research.google.com/assets/colab-badge.svg\" alt=\"Open In Colab\"/></a>"
      ]
    },
    {
      "cell_type": "code",
      "execution_count": null,
      "metadata": {
        "id": "R6QI-cOd7xz_"
      },
      "outputs": [],
      "source": [
        "import numpy as np\n",
        "import pandas as pd \n",
        "import tensorflow as tf\n",
        "from tensorflow.keras.layers import Dense, Input\n",
        "from tensorflow.keras.optimizers import Adam\n",
        "from tensorflow.keras.models import Model\n",
        "from tensorflow.keras.callbacks import ModelCheckpoint\n",
        "import tensorflow_hub as hub\n",
        "import tensorflow_text as text\n",
        "from sklearn.utils import shuffle"
      ]
    },
    {
      "cell_type": "code",
      "source": [
        "!pip install tensorflow_text\n",
        "!pip install sentencepiece"
      ],
      "metadata": {
        "id": "WiSwfO7sRFnq"
      },
      "execution_count": null,
      "outputs": []
    },
    {
      "cell_type": "code",
      "source": [
        "tf.version"
      ],
      "metadata": {
        "id": "TCEc7YPie2dd"
      },
      "execution_count": null,
      "outputs": []
    },
    {
      "cell_type": "code",
      "source": [
        "!wget  https://raw.githubusercontent.com/tensorflow/models/master/official/nlp/bert/tokenization.py"
      ],
      "metadata": {
        "id": "jPvhertM9rk_"
      },
      "execution_count": null,
      "outputs": []
    },
    {
      "cell_type": "code",
      "source": [
        "import tokenization"
      ],
      "metadata": {
        "id": "QS2-389x9w0U"
      },
      "execution_count": null,
      "outputs": []
    },
    {
      "cell_type": "code",
      "source": [
        "def bert_encode(texts, tokenizer, max_len=512):\n",
        "    all_tokens = []\n",
        "    all_masks = []\n",
        "    all_segments = []\n",
        "    \n",
        "    for text in texts:\n",
        "        text = tokenizer.tokenize(text)\n",
        "            \n",
        "        text = text[:max_len-2]\n",
        "        input_sequence = [\"[CLS]\"] + text + [\"[SEP]\"]\n",
        "        pad_len = max_len - len(input_sequence)\n",
        "        \n",
        "        tokens = tokenizer.convert_tokens_to_ids(input_sequence)\n",
        "        tokens += [0] * pad_len\n",
        "        pad_masks = [1] * len(input_sequence) + [0] * pad_len\n",
        "        segment_ids = [0] * max_len\n",
        "        \n",
        "        all_tokens.append(tokens)\n",
        "        all_masks.append(pad_masks)\n",
        "        all_segments.append(segment_ids)\n",
        "    \n",
        "    return np.array(all_tokens), np.array(all_masks), np.array(all_segments)"
      ],
      "metadata": {
        "id": "bmoiQa_J-UVM"
      },
      "execution_count": null,
      "outputs": []
    },
    {
      "cell_type": "code",
      "source": [
        "def build_model(bert_layer, max_len=512):\n",
        "    input_word_ids = Input(shape=(max_len,), dtype=tf.int32, name=\"input_word_ids\")\n",
        "    input_mask = Input(shape=(max_len,), dtype=tf.int32, name=\"input_mask\")\n",
        "    segment_ids = Input(shape=(max_len,), dtype=tf.int32, name=\"segment_ids\")\n",
        "\n",
        "    _, sequence_output = bert_layer([input_word_ids, input_mask, segment_ids])\n",
        "    clf_output = sequence_output[:, 0, :]\n",
        "    out = Dense(1, activation='sigmoid')(clf_output)\n",
        "    \n",
        "    model = Model(inputs=[input_word_ids, input_mask, segment_ids], outputs=out)\n",
        "    model.compile(Adam(lr=2e-6), loss='binary_crossentropy', metrics=['accuracy'])\n",
        "    \n",
        "    return model"
      ],
      "metadata": {
        "id": "RkVsbQOF-ZqT"
      },
      "execution_count": null,
      "outputs": []
    },
    {
      "cell_type": "code",
      "source": [
        "module_url = \"https://tfhub.dev/tensorflow/bert_en_uncased_L-24_H-1024_A-16/1\"\n",
        "bert_layer = hub.KerasLayer(module_url, trainable=True)"
      ],
      "metadata": {
        "id": "a4a5pQPg-cIt"
      },
      "execution_count": null,
      "outputs": []
    },
    {
      "cell_type": "code",
      "source": [
        "vocab_file = bert_layer.resolved_object.vocab_file.asset_path.numpy()\n",
        "do_lower_case = bert_layer.resolved_object.do_lower_case.numpy()\n",
        "tokenizer = tokenization.FullTokenizer(vocab_file, do_lower_case)"
      ],
      "metadata": {
        "id": "8DTmNSbW-gIa"
      },
      "execution_count": null,
      "outputs": []
    },
    {
      "cell_type": "code",
      "source": [
        "train_data = pd.read_csv(\"/content/drive/MyDrive/Colab Notebooks/training_data (2).csv\",  encoding='latin-1')\n",
        "# test_data = pd.read_csv(r\"/content/drive/MyDrive/Colab Notebooks/testdata.manual.2009.06.14.csv\")"
      ],
      "metadata": {
        "id": "qYJyEkEi-4RF"
      },
      "execution_count": null,
      "outputs": []
    },
    {
      "cell_type": "code",
      "source": [
        "train_data.sample()"
      ],
      "metadata": {
        "id": "uxU2nJbY_A2S"
      },
      "execution_count": null,
      "outputs": []
    },
    {
      "cell_type": "code",
      "source": [
        "train_data = train_data[['Sentiment','text' ]]\n",
        "# test_data = test_data[['Sentiment','text']]\n",
        "train_data['senti']=train_data['Sentiment'].apply(lambda x: 1 if x==4 else 0)\n",
        "# test_data['senti']=test_data['Sentiment'].apply(lambda x: 1 if x==4 else 0)\n",
        "train_data"
      ],
      "metadata": {
        "id": "PPEXAjJtQbqb"
      },
      "execution_count": null,
      "outputs": []
    },
    {
      "cell_type": "code",
      "source": [
        "train_labels = train_data['senti'].tolist()\n",
        "train_text = train_data['text'].tolist()\n",
        "# test_labels = test_data['Sentiment'].tolist()\n",
        "# test_text = test_data['text'].tolist()\n",
        "train_labels,train_text = shuffle(train_labels,train_text)\n",
        "train_text = train_text[1:3500]\n",
        "train_labels = train_labels[1:3500]\n",
        "train_text\n",
        "del train_data\n",
        "# del test_data"
      ],
      "metadata": {
        "id": "5_97zEo3Qjjk"
      },
      "execution_count": null,
      "outputs": []
    },
    {
      "cell_type": "code",
      "source": [
        "train_input = bert_encode(train_text, tokenizer, max_len=160)\n",
        "# test_input = bert_encode(test_text, tokenizer, max_len=160)\n",
        "train_input[0]"
      ],
      "metadata": {
        "id": "oZk1FTWLQzhx"
      },
      "execution_count": null,
      "outputs": []
    },
    {
      "cell_type": "code",
      "source": [
        "model = build_model(bert_layer, max_len=160)\n",
        "model.summary()\n",
        "# model.add(Dropout(0.2))\n"
      ],
      "metadata": {
        "id": "HMVA5gXARr1b"
      },
      "execution_count": null,
      "outputs": []
    },
    {
      "cell_type": "code",
      "source": [
        "# tf.convert_to_tensor(\n",
        "#     train_text, dtype=None, dtype_hint=None, name=None\n",
        "# )\n",
        "\n",
        "# train_labels_new = np.asarray(train_labels)\n",
        "# train_text_new = np.asarray(train_input)\n",
        "# train_text_neww = np.resize(train_text_new , (3, 4999, 160))\n",
        "# train_text_neww[0]\n",
        "train_text_new = np.asarray(train_input)\n",
        "train_text_new_1 = np.resize(train_text_new , (4999, 3, 160))\n",
        "train_input_new = []\n",
        "for (a,b,c) in train_text_new_1:\n",
        "    train_input_new.append([tf.convert_to_tensor(np.asarray(a)), tf.convert_to_tensor(np.asarray(b)), tf.convert_to_tensor(np.asarray(c))])\n",
        "train_input_new = np.asarray(train_input_new)\n",
        "# train"
      ],
      "metadata": {
        "id": "tID3EWQfSEPR"
      },
      "execution_count": null,
      "outputs": []
    },
    {
      "cell_type": "code",
      "source": [
        "# Lemmatization & Stemming\n",
        "from nltk.stem import WordNetLemmatizer\n",
        "from nltk.stem import PorterStemmer\n",
        "pst=PorterStemmer()\n",
        "lemmatizer = WordNetLemmatizer()"
      ],
      "metadata": {
        "id": "mYo475ZweDMD"
      },
      "execution_count": null,
      "outputs": []
    },
    {
      "cell_type": "code",
      "source": [
        "train_history = model.fit(\n",
        "    [np.asarray(train_input[0]),np.asarray(train_input[1]),np.asarray(train_input[2])], np.asarray(train_labels),\n",
        "    validation_split=0.3,\n",
        "    epochs=5,\n",
        "    batch_size=16,\n",
        "    verbose=1\n",
        ")"
      ],
      "metadata": {
        "id": "jJMEBAp6RzxY"
      },
      "execution_count": null,
      "outputs": []
    },
    {
      "cell_type": "code",
      "source": [
        "from google.colab import drive\n",
        "drive.mount('/content/drive')"
      ],
      "metadata": {
        "id": "ZLsj_7IAXSo9"
      },
      "execution_count": null,
      "outputs": []
    },
    {
      "cell_type": "code",
      "source": [
        "model.summary()\n",
        "plt.plot(train_history.history['acc'])\n",
        "plt.plot(train_history.history['val_acc'])"
      ],
      "metadata": {
        "id": "gVbMuj3ER9M-"
      },
      "execution_count": null,
      "outputs": []
    },
    {
      "cell_type": "code",
      "source": [
        "from sklearn.metrics import confusion_matrix\n",
        "confusion_matrix(train_input[1], train_history)"
      ],
      "metadata": {
        "id": "8Unnjmafg_jV"
      },
      "execution_count": null,
      "outputs": []
    },
    {
      "cell_type": "code",
      "source": [
        "model.predict()"
      ],
      "metadata": {
        "id": "wihhY9LnfXWs"
      },
      "execution_count": null,
      "outputs": []
    }
  ]
}